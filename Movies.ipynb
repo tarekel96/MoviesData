{
 "cells": [
  {
   "cell_type": "code",
   "execution_count": 1,
   "id": "surgical-confusion",
   "metadata": {},
   "outputs": [],
   "source": [
    "import warnings\n",
    "warnings.filterwarnings('ignore')\n",
    "\n",
    "\n",
    "import pandas as pd\n",
    "import numpy as np\n",
    "from plotnine import *\n",
    "from plotnine.data import mtcars\n",
    "import matplotlib.pyplot as plt\n",
    "\n",
    "from sklearn.preprocessing import StandardScaler #Z-score variables\n",
    "\n",
    "from sklearn.model_selection import train_test_split # simple TT split cv\n",
    "from sklearn.metrics import mean_squared_error, r2_score, accuracy_score\n",
    "from sklearn.linear_model import LinearRegression\n",
    "from sklearn.linear_model import LogisticRegression\n",
    "from sklearn.decomposition import PCA\n",
    "\n",
    "%matplotlib inline"
   ]
  },
  {
   "cell_type": "code",
   "execution_count": 2,
   "id": "neither-participation",
   "metadata": {},
   "outputs": [],
   "source": [
    "data = pd.read_csv(\"./movies.csv\")"
   ]
  },
  {
   "cell_type": "code",
   "execution_count": 3,
   "id": "literary-rwanda",
   "metadata": {},
   "outputs": [
    {
     "data": {
      "text/html": [
       "<div>\n",
       "<style scoped>\n",
       "    .dataframe tbody tr th:only-of-type {\n",
       "        vertical-align: middle;\n",
       "    }\n",
       "\n",
       "    .dataframe tbody tr th {\n",
       "        vertical-align: top;\n",
       "    }\n",
       "\n",
       "    .dataframe thead th {\n",
       "        text-align: right;\n",
       "    }\n",
       "</style>\n",
       "<table border=\"1\" class=\"dataframe\">\n",
       "  <thead>\n",
       "    <tr style=\"text-align: right;\">\n",
       "      <th></th>\n",
       "      <th>budget</th>\n",
       "      <th>company</th>\n",
       "      <th>country</th>\n",
       "      <th>director</th>\n",
       "      <th>genre</th>\n",
       "      <th>genre_encoded</th>\n",
       "      <th>gross</th>\n",
       "      <th>name</th>\n",
       "      <th>rating</th>\n",
       "      <th>rating_encoded</th>\n",
       "      <th>released</th>\n",
       "      <th>runtime</th>\n",
       "      <th>score</th>\n",
       "      <th>star</th>\n",
       "      <th>votes</th>\n",
       "      <th>writer</th>\n",
       "      <th>year released</th>\n",
       "    </tr>\n",
       "  </thead>\n",
       "  <tbody>\n",
       "    <tr>\n",
       "      <th>0</th>\n",
       "      <td>8000000</td>\n",
       "      <td>Columbia Pictures Corporation</td>\n",
       "      <td>USA</td>\n",
       "      <td>Rob Reiner</td>\n",
       "      <td>Adventure</td>\n",
       "      <td>0</td>\n",
       "      <td>52287414</td>\n",
       "      <td>Stand by Me</td>\n",
       "      <td>R</td>\n",
       "      <td>3</td>\n",
       "      <td>1986-08-22</td>\n",
       "      <td>89</td>\n",
       "      <td>8.1</td>\n",
       "      <td>Wil Wheaton</td>\n",
       "      <td>299174</td>\n",
       "      <td>Stephen King</td>\n",
       "      <td>1986</td>\n",
       "    </tr>\n",
       "    <tr>\n",
       "      <th>1</th>\n",
       "      <td>6000000</td>\n",
       "      <td>Paramount Pictures</td>\n",
       "      <td>USA</td>\n",
       "      <td>John Hughes</td>\n",
       "      <td>Comedy</td>\n",
       "      <td>1</td>\n",
       "      <td>70136369</td>\n",
       "      <td>Ferris Bueller's Day Off</td>\n",
       "      <td>PG-13</td>\n",
       "      <td>2</td>\n",
       "      <td>1986-06-11</td>\n",
       "      <td>103</td>\n",
       "      <td>7.8</td>\n",
       "      <td>Matthew Broderick</td>\n",
       "      <td>264740</td>\n",
       "      <td>John Hughes</td>\n",
       "      <td>1986</td>\n",
       "    </tr>\n",
       "    <tr>\n",
       "      <th>2</th>\n",
       "      <td>15000000</td>\n",
       "      <td>Paramount Pictures</td>\n",
       "      <td>USA</td>\n",
       "      <td>Tony Scott</td>\n",
       "      <td>Action</td>\n",
       "      <td>2</td>\n",
       "      <td>179800601</td>\n",
       "      <td>Top Gun</td>\n",
       "      <td>PG</td>\n",
       "      <td>1</td>\n",
       "      <td>1986-05-16</td>\n",
       "      <td>110</td>\n",
       "      <td>6.9</td>\n",
       "      <td>Tom Cruise</td>\n",
       "      <td>236909</td>\n",
       "      <td>Jim Cash</td>\n",
       "      <td>1986</td>\n",
       "    </tr>\n",
       "    <tr>\n",
       "      <th>3</th>\n",
       "      <td>18500000</td>\n",
       "      <td>Twentieth Century Fox Film Corporation</td>\n",
       "      <td>USA</td>\n",
       "      <td>James Cameron</td>\n",
       "      <td>Action</td>\n",
       "      <td>2</td>\n",
       "      <td>85160248</td>\n",
       "      <td>Aliens</td>\n",
       "      <td>R</td>\n",
       "      <td>3</td>\n",
       "      <td>1986-07-18</td>\n",
       "      <td>137</td>\n",
       "      <td>8.4</td>\n",
       "      <td>Sigourney Weaver</td>\n",
       "      <td>540152</td>\n",
       "      <td>James Cameron</td>\n",
       "      <td>1986</td>\n",
       "    </tr>\n",
       "    <tr>\n",
       "      <th>4</th>\n",
       "      <td>9000000</td>\n",
       "      <td>Walt Disney Pictures</td>\n",
       "      <td>USA</td>\n",
       "      <td>Randal Kleiser</td>\n",
       "      <td>Adventure</td>\n",
       "      <td>0</td>\n",
       "      <td>18564613</td>\n",
       "      <td>Flight of the Navigator</td>\n",
       "      <td>PG</td>\n",
       "      <td>1</td>\n",
       "      <td>1986-08-01</td>\n",
       "      <td>90</td>\n",
       "      <td>6.9</td>\n",
       "      <td>Joey Cramer</td>\n",
       "      <td>36636</td>\n",
       "      <td>Mark H. Baker</td>\n",
       "      <td>1986</td>\n",
       "    </tr>\n",
       "  </tbody>\n",
       "</table>\n",
       "</div>"
      ],
      "text/plain": [
       "     budget                                 company country        director  \\\n",
       "0   8000000           Columbia Pictures Corporation     USA      Rob Reiner   \n",
       "1   6000000                      Paramount Pictures     USA     John Hughes   \n",
       "2  15000000                      Paramount Pictures     USA      Tony Scott   \n",
       "3  18500000  Twentieth Century Fox Film Corporation     USA   James Cameron   \n",
       "4   9000000                    Walt Disney Pictures     USA  Randal Kleiser   \n",
       "\n",
       "       genre  genre_encoded      gross                      name rating  \\\n",
       "0  Adventure              0   52287414               Stand by Me      R   \n",
       "1     Comedy              1   70136369  Ferris Bueller's Day Off  PG-13   \n",
       "2     Action              2  179800601                   Top Gun     PG   \n",
       "3     Action              2   85160248                    Aliens      R   \n",
       "4  Adventure              0   18564613   Flight of the Navigator     PG   \n",
       "\n",
       "   rating_encoded    released  runtime  score               star   votes  \\\n",
       "0               3  1986-08-22       89    8.1        Wil Wheaton  299174   \n",
       "1               2  1986-06-11      103    7.8  Matthew Broderick  264740   \n",
       "2               1  1986-05-16      110    6.9         Tom Cruise  236909   \n",
       "3               3  1986-07-18      137    8.4   Sigourney Weaver  540152   \n",
       "4               1  1986-08-01       90    6.9        Joey Cramer   36636   \n",
       "\n",
       "          writer  year released  \n",
       "0   Stephen King           1986  \n",
       "1    John Hughes           1986  \n",
       "2       Jim Cash           1986  \n",
       "3  James Cameron           1986  \n",
       "4  Mark H. Baker           1986  "
      ]
     },
     "execution_count": 3,
     "metadata": {},
     "output_type": "execute_result"
    }
   ],
   "source": [
    "data.head()"
   ]
  },
  {
   "cell_type": "code",
   "execution_count": 4,
   "id": "residential-header",
   "metadata": {},
   "outputs": [
    {
     "data": {
      "text/plain": [
       "Index(['budget', 'company', 'country', 'director', 'genre', 'genre_encoded',\n",
       "       'gross', 'name', 'rating', 'rating_encoded', 'released', 'runtime',\n",
       "       'score', 'star', 'votes', 'writer', 'year released'],\n",
       "      dtype='object')"
      ]
     },
     "execution_count": 4,
     "metadata": {},
     "output_type": "execute_result"
    }
   ],
   "source": [
    "data.columns"
   ]
  },
  {
   "cell_type": "code",
   "execution_count": 5,
   "id": "breeding-record",
   "metadata": {},
   "outputs": [
    {
     "data": {
      "text/plain": [
       "budget            0\n",
       "company           0\n",
       "country           0\n",
       "director          0\n",
       "genre             0\n",
       "genre_encoded     0\n",
       "gross             0\n",
       "name              0\n",
       "rating            0\n",
       "rating_encoded    0\n",
       "released          0\n",
       "runtime           0\n",
       "score             0\n",
       "star              0\n",
       "votes             0\n",
       "writer            0\n",
       "year released     0\n",
       "dtype: int64"
      ]
     },
     "execution_count": 5,
     "metadata": {},
     "output_type": "execute_result"
    }
   ],
   "source": [
    "data.isnull().sum(axis=0) # checked to make sure there is no missing data"
   ]
  },
  {
   "cell_type": "code",
   "execution_count": 6,
   "id": "stupid-audit",
   "metadata": {},
   "outputs": [
    {
     "name": "stdout",
     "output_type": "stream",
     "text": [
      "There are 3080 movies from the dataset that were released before 2000.\n"
     ]
    },
    {
     "data": {
      "text/html": [
       "<div>\n",
       "<style scoped>\n",
       "    .dataframe tbody tr th:only-of-type {\n",
       "        vertical-align: middle;\n",
       "    }\n",
       "\n",
       "    .dataframe tbody tr th {\n",
       "        vertical-align: top;\n",
       "    }\n",
       "\n",
       "    .dataframe thead th {\n",
       "        text-align: right;\n",
       "    }\n",
       "</style>\n",
       "<table border=\"1\" class=\"dataframe\">\n",
       "  <thead>\n",
       "    <tr style=\"text-align: right;\">\n",
       "      <th></th>\n",
       "      <th>budget</th>\n",
       "      <th>company</th>\n",
       "      <th>country</th>\n",
       "      <th>director</th>\n",
       "      <th>genre</th>\n",
       "      <th>genre_encoded</th>\n",
       "      <th>gross</th>\n",
       "      <th>name</th>\n",
       "      <th>rating</th>\n",
       "      <th>rating_encoded</th>\n",
       "      <th>released</th>\n",
       "      <th>runtime</th>\n",
       "      <th>score</th>\n",
       "      <th>star</th>\n",
       "      <th>votes</th>\n",
       "      <th>writer</th>\n",
       "      <th>year released</th>\n",
       "    </tr>\n",
       "  </thead>\n",
       "  <tbody>\n",
       "    <tr>\n",
       "      <th>3075</th>\n",
       "      <td>0</td>\n",
       "      <td>3B Productions</td>\n",
       "      <td>France</td>\n",
       "      <td>Bruno Dumont</td>\n",
       "      <td>Drama</td>\n",
       "      <td>3</td>\n",
       "      <td>113495</td>\n",
       "      <td>Humanité</td>\n",
       "      <td>Not specified</td>\n",
       "      <td>5</td>\n",
       "      <td>1999-10-27</td>\n",
       "      <td>148</td>\n",
       "      <td>6.9</td>\n",
       "      <td>Emmanuel Schotté</td>\n",
       "      <td>3105</td>\n",
       "      <td>Bruno Dumont</td>\n",
       "      <td>1999</td>\n",
       "    </tr>\n",
       "    <tr>\n",
       "      <th>3076</th>\n",
       "      <td>0</td>\n",
       "      <td>C.E.O. Films</td>\n",
       "      <td>USA</td>\n",
       "      <td>George Haas</td>\n",
       "      <td>Drama</td>\n",
       "      <td>3</td>\n",
       "      <td>94633</td>\n",
       "      <td>Friends &amp; Lovers</td>\n",
       "      <td>R</td>\n",
       "      <td>3</td>\n",
       "      <td>1999-04-16</td>\n",
       "      <td>100</td>\n",
       "      <td>4.5</td>\n",
       "      <td>Stephen Baldwin</td>\n",
       "      <td>1330</td>\n",
       "      <td>Neill Barry</td>\n",
       "      <td>1999</td>\n",
       "    </tr>\n",
       "    <tr>\n",
       "      <th>3077</th>\n",
       "      <td>312000</td>\n",
       "      <td>Spanky Pictures</td>\n",
       "      <td>USA</td>\n",
       "      <td>Gavin O'Connor</td>\n",
       "      <td>Drama</td>\n",
       "      <td>3</td>\n",
       "      <td>1281176</td>\n",
       "      <td>Tumbleweeds</td>\n",
       "      <td>PG-13</td>\n",
       "      <td>2</td>\n",
       "      <td>2000-03-03</td>\n",
       "      <td>102</td>\n",
       "      <td>6.7</td>\n",
       "      <td>Janet McTeer</td>\n",
       "      <td>3018</td>\n",
       "      <td>Angela Shelton</td>\n",
       "      <td>1999</td>\n",
       "    </tr>\n",
       "    <tr>\n",
       "      <th>3078</th>\n",
       "      <td>0</td>\n",
       "      <td>Cinerenta Medienbeteiligungs KG</td>\n",
       "      <td>USA</td>\n",
       "      <td>Scott Elliott</td>\n",
       "      <td>Drama</td>\n",
       "      <td>3</td>\n",
       "      <td>544538</td>\n",
       "      <td>A Map of the World</td>\n",
       "      <td>R</td>\n",
       "      <td>3</td>\n",
       "      <td>2000-01-21</td>\n",
       "      <td>125</td>\n",
       "      <td>6.7</td>\n",
       "      <td>Sigourney Weaver</td>\n",
       "      <td>3659</td>\n",
       "      <td>Jane Hamilton</td>\n",
       "      <td>1999</td>\n",
       "    </tr>\n",
       "    <tr>\n",
       "      <th>3079</th>\n",
       "      <td>7500000</td>\n",
       "      <td>Code Productions</td>\n",
       "      <td>USA</td>\n",
       "      <td>Robert Marcarelli</td>\n",
       "      <td>Action</td>\n",
       "      <td>2</td>\n",
       "      <td>12614346</td>\n",
       "      <td>The Omega Code</td>\n",
       "      <td>PG-13</td>\n",
       "      <td>2</td>\n",
       "      <td>1999-08-27</td>\n",
       "      <td>100</td>\n",
       "      <td>3.5</td>\n",
       "      <td>Casper Van Dien</td>\n",
       "      <td>4762</td>\n",
       "      <td>Stephan Blinn</td>\n",
       "      <td>1999</td>\n",
       "    </tr>\n",
       "  </tbody>\n",
       "</table>\n",
       "</div>"
      ],
      "text/plain": [
       "       budget                          company country           director  \\\n",
       "3075        0                   3B Productions  France       Bruno Dumont   \n",
       "3076        0                     C.E.O. Films     USA        George Haas   \n",
       "3077   312000                  Spanky Pictures     USA     Gavin O'Connor   \n",
       "3078        0  Cinerenta Medienbeteiligungs KG     USA      Scott Elliott   \n",
       "3079  7500000                 Code Productions     USA  Robert Marcarelli   \n",
       "\n",
       "       genre  genre_encoded     gross                name         rating  \\\n",
       "3075   Drama              3    113495            Humanité  Not specified   \n",
       "3076   Drama              3     94633    Friends & Lovers              R   \n",
       "3077   Drama              3   1281176         Tumbleweeds          PG-13   \n",
       "3078   Drama              3    544538  A Map of the World              R   \n",
       "3079  Action              2  12614346      The Omega Code          PG-13   \n",
       "\n",
       "      rating_encoded    released  runtime  score              star  votes  \\\n",
       "3075               5  1999-10-27      148    6.9  Emmanuel Schotté   3105   \n",
       "3076               3  1999-04-16      100    4.5   Stephen Baldwin   1330   \n",
       "3077               2  2000-03-03      102    6.7      Janet McTeer   3018   \n",
       "3078               3  2000-01-21      125    6.7  Sigourney Weaver   3659   \n",
       "3079               2  1999-08-27      100    3.5   Casper Van Dien   4762   \n",
       "\n",
       "              writer  year released  \n",
       "3075    Bruno Dumont           1999  \n",
       "3076     Neill Barry           1999  \n",
       "3077  Angela Shelton           1999  \n",
       "3078   Jane Hamilton           1999  \n",
       "3079   Stephan Blinn           1999  "
      ]
     },
     "execution_count": 6,
     "metadata": {},
     "output_type": "execute_result"
    }
   ],
   "source": [
    "movies_before_2000 = data[data['year released'] < 2000]\n",
    "print(\"There are \" + str(len(movies_before_2000)) + \" movies from the dataset that were released before 2000.\")\n",
    "movies_before_2000.tail()"
   ]
  },
  {
   "cell_type": "code",
   "execution_count": 7,
   "id": "radio-christian",
   "metadata": {},
   "outputs": [
    {
     "name": "stdout",
     "output_type": "stream",
     "text": [
      "There are 3740 movies from the dataset that were released after 2000.\n"
     ]
    },
    {
     "data": {
      "text/html": [
       "<div>\n",
       "<style scoped>\n",
       "    .dataframe tbody tr th:only-of-type {\n",
       "        vertical-align: middle;\n",
       "    }\n",
       "\n",
       "    .dataframe tbody tr th {\n",
       "        vertical-align: top;\n",
       "    }\n",
       "\n",
       "    .dataframe thead th {\n",
       "        text-align: right;\n",
       "    }\n",
       "</style>\n",
       "<table border=\"1\" class=\"dataframe\">\n",
       "  <thead>\n",
       "    <tr style=\"text-align: right;\">\n",
       "      <th></th>\n",
       "      <th>budget</th>\n",
       "      <th>company</th>\n",
       "      <th>country</th>\n",
       "      <th>director</th>\n",
       "      <th>genre</th>\n",
       "      <th>genre_encoded</th>\n",
       "      <th>gross</th>\n",
       "      <th>name</th>\n",
       "      <th>rating</th>\n",
       "      <th>rating_encoded</th>\n",
       "      <th>released</th>\n",
       "      <th>runtime</th>\n",
       "      <th>score</th>\n",
       "      <th>star</th>\n",
       "      <th>votes</th>\n",
       "      <th>writer</th>\n",
       "      <th>year released</th>\n",
       "    </tr>\n",
       "  </thead>\n",
       "  <tbody>\n",
       "    <tr>\n",
       "      <th>6815</th>\n",
       "      <td>0</td>\n",
       "      <td>Fox Searchlight Pictures</td>\n",
       "      <td>UK</td>\n",
       "      <td>Mandie Fletcher</td>\n",
       "      <td>Comedy</td>\n",
       "      <td>1</td>\n",
       "      <td>4750497</td>\n",
       "      <td>Absolutely Fabulous: The Movie</td>\n",
       "      <td>R</td>\n",
       "      <td>3</td>\n",
       "      <td>2016-07-22</td>\n",
       "      <td>91</td>\n",
       "      <td>5.4</td>\n",
       "      <td>Jennifer Saunders</td>\n",
       "      <td>9161</td>\n",
       "      <td>Jennifer Saunders</td>\n",
       "      <td>2016</td>\n",
       "    </tr>\n",
       "    <tr>\n",
       "      <th>6816</th>\n",
       "      <td>0</td>\n",
       "      <td>Siempre Viva Productions</td>\n",
       "      <td>USA</td>\n",
       "      <td>Paul Duddridge</td>\n",
       "      <td>Drama</td>\n",
       "      <td>3</td>\n",
       "      <td>28368</td>\n",
       "      <td>Mothers and Daughters</td>\n",
       "      <td>PG-13</td>\n",
       "      <td>2</td>\n",
       "      <td>2016-05-06</td>\n",
       "      <td>90</td>\n",
       "      <td>4.9</td>\n",
       "      <td>Selma Blair</td>\n",
       "      <td>1959</td>\n",
       "      <td>Paige Cameron</td>\n",
       "      <td>2016</td>\n",
       "    </tr>\n",
       "    <tr>\n",
       "      <th>6817</th>\n",
       "      <td>3500000</td>\n",
       "      <td>Warner Bros. 7</td>\n",
       "      <td>USA</td>\n",
       "      <td>Sam Liu</td>\n",
       "      <td>Animation</td>\n",
       "      <td>7</td>\n",
       "      <td>3775000</td>\n",
       "      <td>Batman: The Killing Joke</td>\n",
       "      <td>R</td>\n",
       "      <td>3</td>\n",
       "      <td>2016-07-25</td>\n",
       "      <td>76</td>\n",
       "      <td>6.5</td>\n",
       "      <td>Kevin Conroy</td>\n",
       "      <td>36333</td>\n",
       "      <td>Brian Azzarello</td>\n",
       "      <td>2016</td>\n",
       "    </tr>\n",
       "    <tr>\n",
       "      <th>6818</th>\n",
       "      <td>0</td>\n",
       "      <td>Borderline Presents</td>\n",
       "      <td>USA</td>\n",
       "      <td>Nicolas Pesce</td>\n",
       "      <td>Drama</td>\n",
       "      <td>3</td>\n",
       "      <td>25981</td>\n",
       "      <td>The Eyes of My Mother</td>\n",
       "      <td>R</td>\n",
       "      <td>3</td>\n",
       "      <td>2016-12-02</td>\n",
       "      <td>76</td>\n",
       "      <td>6.2</td>\n",
       "      <td>Kika Magalhães</td>\n",
       "      <td>6947</td>\n",
       "      <td>Nicolas Pesce</td>\n",
       "      <td>2016</td>\n",
       "    </tr>\n",
       "    <tr>\n",
       "      <th>6819</th>\n",
       "      <td>0</td>\n",
       "      <td>Les Productions du Trésor</td>\n",
       "      <td>France</td>\n",
       "      <td>Nicole Garcia</td>\n",
       "      <td>Drama</td>\n",
       "      <td>3</td>\n",
       "      <td>37757</td>\n",
       "      <td>From the Land of the Moon</td>\n",
       "      <td>R</td>\n",
       "      <td>3</td>\n",
       "      <td>2017-07-28</td>\n",
       "      <td>120</td>\n",
       "      <td>6.7</td>\n",
       "      <td>Marion Cotillard</td>\n",
       "      <td>2411</td>\n",
       "      <td>Milena Agus</td>\n",
       "      <td>2016</td>\n",
       "    </tr>\n",
       "  </tbody>\n",
       "</table>\n",
       "</div>"
      ],
      "text/plain": [
       "       budget                    company country         director      genre  \\\n",
       "6815        0   Fox Searchlight Pictures      UK  Mandie Fletcher     Comedy   \n",
       "6816        0   Siempre Viva Productions     USA   Paul Duddridge      Drama   \n",
       "6817  3500000             Warner Bros. 7     USA          Sam Liu  Animation   \n",
       "6818        0        Borderline Presents     USA    Nicolas Pesce      Drama   \n",
       "6819        0  Les Productions du Trésor  France    Nicole Garcia      Drama   \n",
       "\n",
       "      genre_encoded    gross                            name rating  \\\n",
       "6815              1  4750497  Absolutely Fabulous: The Movie      R   \n",
       "6816              3    28368           Mothers and Daughters  PG-13   \n",
       "6817              7  3775000        Batman: The Killing Joke      R   \n",
       "6818              3    25981           The Eyes of My Mother      R   \n",
       "6819              3    37757       From the Land of the Moon      R   \n",
       "\n",
       "      rating_encoded    released  runtime  score               star  votes  \\\n",
       "6815               3  2016-07-22       91    5.4  Jennifer Saunders   9161   \n",
       "6816               2  2016-05-06       90    4.9        Selma Blair   1959   \n",
       "6817               3  2016-07-25       76    6.5       Kevin Conroy  36333   \n",
       "6818               3  2016-12-02       76    6.2     Kika Magalhães   6947   \n",
       "6819               3  2017-07-28      120    6.7   Marion Cotillard   2411   \n",
       "\n",
       "                 writer  year released  \n",
       "6815  Jennifer Saunders           2016  \n",
       "6816      Paige Cameron           2016  \n",
       "6817    Brian Azzarello           2016  \n",
       "6818      Nicolas Pesce           2016  \n",
       "6819        Milena Agus           2016  "
      ]
     },
     "execution_count": 7,
     "metadata": {},
     "output_type": "execute_result"
    }
   ],
   "source": [
    "movies_2000_and_after = data[data['year released'] >= 2000]\n",
    "print(\"There are \" + str(len(movies_2000_and_after)) + \" movies from the dataset that were released after 2000.\")\n",
    "movies_2000_and_after.tail()"
   ]
  },
  {
   "cell_type": "markdown",
   "id": "obvious-particle",
   "metadata": {},
   "source": [
    "# Question 1:\n",
    "## Part 1 What is the relationship between movie budget and revenue (gross), \n",
    "## Part 2: and is that relationship different for movies that came out before 2000 compared to movies that came out after 2000?"
   ]
  },
  {
   "cell_type": "code",
   "execution_count": 8,
   "id": "capital-retention",
   "metadata": {},
   "outputs": [
    {
     "data": {
      "image/png": "[encoded data removed]",
      "text/plain": [
       "<Figure size 640x480 with 1 Axes>"
      ]
     },
     "metadata": {
      "needs_background": "light"
     },
     "output_type": "display_data"
    },
    {
     "data": {
      "text/plain": [
       "<ggplot: (320043460)>"
      ]
     },
     "execution_count": 8,
     "metadata": {},
     "output_type": "execute_result"
    }
   ],
   "source": [
    "(ggplot(data, aes(x = 'budget', y = 'gross')) \n",
    " + geom_point(colour = 'blue', alpha = 0.30) \n",
    " + theme_minimal() + ggtitle(\"Budget vs Gross\") \n",
    " + labs(x = \"Budget ($)\", y = \"Gross ($)\") \n",
    " + geom_smooth(method = \"lm\", colour = 'orange')\n",
    ")"
   ]
  },
  {
   "cell_type": "markdown",
   "id": "understanding-housing",
   "metadata": {},
   "source": [
    "# Question 1 Discussion Part 1\n",
    "## What is the (general) relationship between movie budget and revenue (gross)?\n",
    "- To understand the relationship between a movie's budget and its gross, we created the scatter plot above. The scatter plot has budget on the x-axis and gross on the y-axis. Budget is on the x-axis because it is the predictor variable (AKA independent variable) and gross is on the y-axis because it is the outcome we are analyzing based on the budget. We can observe that generally as x (budget) increases, we can expect the y (gross) value to increase. To confirm this trend, we added a best fit linear regression line. The regression line aligns with our observation that as x increases, we can expect y to increase because the slope of the regression line is positive and greater than 1. This is because the slope is slanted upwards. This slope that is positive and greater than 1 indicates that the relationship between budget and revenue is a positive linear relationship. \n",
    "- Our results are not too suprising because it makes sense for a movie to make more money (gross) if the movie's producers have more money (budget). Having a higher budget allows movie producers to have more resources, experiment with different ideas, and ultimately gives them a lot more opportunities to make a more successful (in terms of gross) movie. \n",
    "- We are curious about whether this positive linear relationship is similar or different across movies made before 2000 vs movies made 2000 and after. We dive into this in the next question."
   ]
  },
  {
   "cell_type": "code",
   "execution_count": 9,
   "id": "fluid-benefit",
   "metadata": {},
   "outputs": [
    {
     "data": {
      "text/plain": [
       "6820"
      ]
     },
     "execution_count": 9,
     "metadata": {},
     "output_type": "execute_result"
    }
   ],
   "source": [
    "# labsList = ['Movies Released Before 2000', 'Movies Released 2000 and After']\n",
    "year_assignments = []\n",
    "for i in data['year released']:\n",
    "    if i >= 2000:\n",
    "        year_assignments.append(1)\n",
    "    else:\n",
    "        year_assignments.append(0)\n",
    "len(year_assignments)"
   ]
  },
  {
   "cell_type": "code",
   "execution_count": 10,
   "id": "packed-lodge",
   "metadata": {},
   "outputs": [
    {
     "data": {
      "text/html": [
       "<div>\n",
       "<style scoped>\n",
       "    .dataframe tbody tr th:only-of-type {\n",
       "        vertical-align: middle;\n",
       "    }\n",
       "\n",
       "    .dataframe tbody tr th {\n",
       "        vertical-align: top;\n",
       "    }\n",
       "\n",
       "    .dataframe thead th {\n",
       "        text-align: right;\n",
       "    }\n",
       "</style>\n",
       "<table border=\"1\" class=\"dataframe\">\n",
       "  <thead>\n",
       "    <tr style=\"text-align: right;\">\n",
       "      <th></th>\n",
       "      <th>budget</th>\n",
       "      <th>company</th>\n",
       "      <th>country</th>\n",
       "      <th>director</th>\n",
       "      <th>genre</th>\n",
       "      <th>genre_encoded</th>\n",
       "      <th>gross</th>\n",
       "      <th>name</th>\n",
       "      <th>rating</th>\n",
       "      <th>rating_encoded</th>\n",
       "      <th>released</th>\n",
       "      <th>runtime</th>\n",
       "      <th>score</th>\n",
       "      <th>star</th>\n",
       "      <th>votes</th>\n",
       "      <th>writer</th>\n",
       "      <th>year released</th>\n",
       "      <th>year_assignments</th>\n",
       "    </tr>\n",
       "  </thead>\n",
       "  <tbody>\n",
       "    <tr>\n",
       "      <th>6815</th>\n",
       "      <td>0</td>\n",
       "      <td>Fox Searchlight Pictures</td>\n",
       "      <td>UK</td>\n",
       "      <td>Mandie Fletcher</td>\n",
       "      <td>Comedy</td>\n",
       "      <td>1</td>\n",
       "      <td>4750497</td>\n",
       "      <td>Absolutely Fabulous: The Movie</td>\n",
       "      <td>R</td>\n",
       "      <td>3</td>\n",
       "      <td>2016-07-22</td>\n",
       "      <td>91</td>\n",
       "      <td>5.4</td>\n",
       "      <td>Jennifer Saunders</td>\n",
       "      <td>9161</td>\n",
       "      <td>Jennifer Saunders</td>\n",
       "      <td>2016</td>\n",
       "      <td>1</td>\n",
       "    </tr>\n",
       "    <tr>\n",
       "      <th>6816</th>\n",
       "      <td>0</td>\n",
       "      <td>Siempre Viva Productions</td>\n",
       "      <td>USA</td>\n",
       "      <td>Paul Duddridge</td>\n",
       "      <td>Drama</td>\n",
       "      <td>3</td>\n",
       "      <td>28368</td>\n",
       "      <td>Mothers and Daughters</td>\n",
       "      <td>PG-13</td>\n",
       "      <td>2</td>\n",
       "      <td>2016-05-06</td>\n",
       "      <td>90</td>\n",
       "      <td>4.9</td>\n",
       "      <td>Selma Blair</td>\n",
       "      <td>1959</td>\n",
       "      <td>Paige Cameron</td>\n",
       "      <td>2016</td>\n",
       "      <td>1</td>\n",
       "    </tr>\n",
       "    <tr>\n",
       "      <th>6817</th>\n",
       "      <td>3500000</td>\n",
       "      <td>Warner Bros. 7</td>\n",
       "      <td>USA</td>\n",
       "      <td>Sam Liu</td>\n",
       "      <td>Animation</td>\n",
       "      <td>7</td>\n",
       "      <td>3775000</td>\n",
       "      <td>Batman: The Killing Joke</td>\n",
       "      <td>R</td>\n",
       "      <td>3</td>\n",
       "      <td>2016-07-25</td>\n",
       "      <td>76</td>\n",
       "      <td>6.5</td>\n",
       "      <td>Kevin Conroy</td>\n",
       "      <td>36333</td>\n",
       "      <td>Brian Azzarello</td>\n",
       "      <td>2016</td>\n",
       "      <td>1</td>\n",
       "    </tr>\n",
       "    <tr>\n",
       "      <th>6818</th>\n",
       "      <td>0</td>\n",
       "      <td>Borderline Presents</td>\n",
       "      <td>USA</td>\n",
       "      <td>Nicolas Pesce</td>\n",
       "      <td>Drama</td>\n",
       "      <td>3</td>\n",
       "      <td>25981</td>\n",
       "      <td>The Eyes of My Mother</td>\n",
       "      <td>R</td>\n",
       "      <td>3</td>\n",
       "      <td>2016-12-02</td>\n",
       "      <td>76</td>\n",
       "      <td>6.2</td>\n",
       "      <td>Kika Magalhães</td>\n",
       "      <td>6947</td>\n",
       "      <td>Nicolas Pesce</td>\n",
       "      <td>2016</td>\n",
       "      <td>1</td>\n",
       "    </tr>\n",
       "    <tr>\n",
       "      <th>6819</th>\n",
       "      <td>0</td>\n",
       "      <td>Les Productions du Trésor</td>\n",
       "      <td>France</td>\n",
       "      <td>Nicole Garcia</td>\n",
       "      <td>Drama</td>\n",
       "      <td>3</td>\n",
       "      <td>37757</td>\n",
       "      <td>From the Land of the Moon</td>\n",
       "      <td>R</td>\n",
       "      <td>3</td>\n",
       "      <td>2017-07-28</td>\n",
       "      <td>120</td>\n",
       "      <td>6.7</td>\n",
       "      <td>Marion Cotillard</td>\n",
       "      <td>2411</td>\n",
       "      <td>Milena Agus</td>\n",
       "      <td>2016</td>\n",
       "      <td>1</td>\n",
       "    </tr>\n",
       "  </tbody>\n",
       "</table>\n",
       "</div>"
      ],
      "text/plain": [
       "       budget                    company country         director      genre  \\\n",
       "6815        0   Fox Searchlight Pictures      UK  Mandie Fletcher     Comedy   \n",
       "6816        0   Siempre Viva Productions     USA   Paul Duddridge      Drama   \n",
       "6817  3500000             Warner Bros. 7     USA          Sam Liu  Animation   \n",
       "6818        0        Borderline Presents     USA    Nicolas Pesce      Drama   \n",
       "6819        0  Les Productions du Trésor  France    Nicole Garcia      Drama   \n",
       "\n",
       "      genre_encoded    gross                            name rating  \\\n",
       "6815              1  4750497  Absolutely Fabulous: The Movie      R   \n",
       "6816              3    28368           Mothers and Daughters  PG-13   \n",
       "6817              7  3775000        Batman: The Killing Joke      R   \n",
       "6818              3    25981           The Eyes of My Mother      R   \n",
       "6819              3    37757       From the Land of the Moon      R   \n",
       "\n",
       "      rating_encoded    released  runtime  score               star  votes  \\\n",
       "6815               3  2016-07-22       91    5.4  Jennifer Saunders   9161   \n",
       "6816               2  2016-05-06       90    4.9        Selma Blair   1959   \n",
       "6817               3  2016-07-25       76    6.5       Kevin Conroy  36333   \n",
       "6818               3  2016-12-02       76    6.2     Kika Magalhães   6947   \n",
       "6819               3  2017-07-28      120    6.7   Marion Cotillard   2411   \n",
       "\n",
       "                 writer  year released  year_assignments  \n",
       "6815  Jennifer Saunders           2016                 1  \n",
       "6816      Paige Cameron           2016                 1  \n",
       "6817    Brian Azzarello           2016                 1  \n",
       "6818      Nicolas Pesce           2016                 1  \n",
       "6819        Milena Agus           2016                 1  "
      ]
     },
     "execution_count": 10,
     "metadata": {},
     "output_type": "execute_result"
    }
   ],
   "source": [
    "data['year_assignments'] = year_assignments\n",
    "data.tail()"
   ]
  },
  {
   "cell_type": "code",
   "execution_count": 11,
   "id": "severe-aircraft",
   "metadata": {},
   "outputs": [
    {
     "name": "stdout",
     "output_type": "stream",
     "text": [
      "Testing out the labsList list: \n",
      "Cluster 0\n",
      "Cluster 1\n"
     ]
    }
   ],
   "source": [
    "labsList = [\"Cluster \" + str(i) for i in year_assignments]\n",
    "label_titles = ['Movies Released Before 2000', 'Movies Released 2000 and After']\n",
    "print(\"Testing out the labsList list: \")\n",
    "print(labsList[1000])\n",
    "print(labsList[6000])"
   ]
  },
  {
   "cell_type": "code",
   "execution_count": 12,
   "id": "relevant-possible",
   "metadata": {},
   "outputs": [
    {
     "data": {
      "image/png": "[encoded data removed]",
      "text/plain": [
       "<Figure size 640x480 with 1 Axes>"
      ]
     },
     "metadata": {
      "needs_background": "light"
     },
     "output_type": "display_data"
    },
    {
     "data": {
      "text/plain": [
       "<ggplot: (320229617)>"
      ]
     },
     "execution_count": 12,
     "metadata": {},
     "output_type": "execute_result"
    }
   ],
   "source": [
    "(ggplot(data, aes(x = 'budget', y = 'gross', colour = \"factor(year_assignments)\")) \n",
    " + geom_point(alpha = 0.45) \n",
    " + theme_minimal() \n",
    " + ggtitle(\"Budget vs Gross\") \n",
    " + labs(x = \"Budget ($)\", y = \"Gross ($)\") \n",
    " + geom_smooth(method = \"lm\")\n",
    " + scale_color_discrete(name = \"Colors Assignment Key\",\n",
    "                       labels = label_titles)\n",
    ")"
   ]
  },
  {
   "cell_type": "markdown",
   "id": "first-asset",
   "metadata": {},
   "source": [
    "# Question 1 Discussion Part 2\n",
    "## Is the relationship between movie budget and revenue (gross) different for movies that came out before 2000 compared to movies that came out after 2000?\n",
    "- To understand if the relationship between budget and gross are different among movies made before 2000 vs movies made 2000 and after, we created another scatter plot. Once again, the x-axis is budget and the y-axis is gross. The main difference in this graph is that the 2 groups (movies before 2000s and movies 2000s+) are distinguised by different colors. The salmon/pink colored data points represent movies that were made before 2000. The light/sky blue color data points represent movies that were made 2000 and beyond. Each of the groups have their own best fit regression lines and are colored relative to their group colors. \n",
    "- We can see from the graph above, that 2 groups have very similar results. Both regression lines are positive and greater than 1 because they are slanted up and continue to go up as budget increases. These results suggest that we generally we can expect a movie's gross to increase as its budget increases. \n",
    "- Although the regression lines are very similar, it should be noted that the group of movies released in 2000 and after is higher (in terms of gross) than the other regression line. This is most likely due to the fact that movies made 2000s and after are much more likely to have made more money/gross compared to movies made before 2000. This is not too suprising because the movie industry and its audience grows significantly over years especially over the last couple of years. Inflation may also be another reason as to why the movies made 2000 and after have a higher regression line. "
   ]
  },
  {
   "cell_type": "markdown",
   "id": "careful-jaguar",
   "metadata": {},
   "source": [
    "## Question 1 Explicit Answers to Parts 1 and 2\n",
    "\n",
    "### Part 1: What is the (general) relationship between movie budget and revenue (gross)?\n",
    "- **The relationship between movie budget and revenue is positive linear relationship. Generally, as a movie's budget increases, we can expect its respected gross to increase as well.**\n",
    "\n",
    "### Part 2: Is the relationship between movie budget and revenue (gross) different for movies that came out before 2000 compared to movies that came out after 2000?\n",
    "- **The relationship between movie budget and revenue is not different, except that for the movies made in 2000 and after CAN (not necessarily always) have higher grosses.**"
   ]
  },
  {
   "cell_type": "markdown",
   "id": "interested-nothing",
   "metadata": {},
   "source": [
    "# Question 2\n",
    "\n",
    "## Using the number of user votes as a proxy for movie popularity, are certain genres, (action, drama, and adventure),  of movies more popular than others?\n",
    "\n",
    "### Part 1: Boxplot of users votes across different genres\n",
    "### Part 2: Barplot of average number of user votes across different genres\n",
    "### Part 3: Barplot of count of movies from dataset across different genres"
   ]
  },
  {
   "cell_type": "code",
   "execution_count": 13,
   "id": "changing-transparency",
   "metadata": {},
   "outputs": [
    {
     "name": "stdout",
     "output_type": "stream",
     "text": [
      "The dataset contains all of these genres: \n",
      "\n",
      "Adventure\n",
      "Comedy\n",
      "Action\n",
      "Drama\n",
      "Crime\n",
      "Thriller\n",
      "Horror\n",
      "Animation\n",
      "Biography\n",
      "Sci-Fi\n",
      "Musical\n",
      "Family\n",
      "Fantasy\n",
      "Mystery\n",
      "War\n",
      "Romance\n",
      "Western\n",
      "\n",
      "\n",
      "However, we are only interested in action, drama, and adventure for this question.\n"
     ]
    }
   ],
   "source": [
    "print(\"The dataset contains all of these genres: \\n\")\n",
    "for i in data['genre'].unique():\n",
    "    print(i)\n",
    "print(\"\\n\")\n",
    "print(\"However, we are only interested in action, drama, and adventure for this question.\")"
   ]
  },
  {
   "cell_type": "code",
   "execution_count": 14,
   "id": "weighted-texas",
   "metadata": {},
   "outputs": [
    {
     "name": "stdout",
     "output_type": "stream",
     "text": [
      "All of the movies that are considered an action, drama, or adventure genre\n",
      "are found and then stored in the variable called data_genre_filtered\n"
     ]
    },
    {
     "data": {
      "text/html": [
       "<div>\n",
       "<style scoped>\n",
       "    .dataframe tbody tr th:only-of-type {\n",
       "        vertical-align: middle;\n",
       "    }\n",
       "\n",
       "    .dataframe tbody tr th {\n",
       "        vertical-align: top;\n",
       "    }\n",
       "\n",
       "    .dataframe thead th {\n",
       "        text-align: right;\n",
       "    }\n",
       "</style>\n",
       "<table border=\"1\" class=\"dataframe\">\n",
       "  <thead>\n",
       "    <tr style=\"text-align: right;\">\n",
       "      <th></th>\n",
       "      <th>budget</th>\n",
       "      <th>company</th>\n",
       "      <th>country</th>\n",
       "      <th>director</th>\n",
       "      <th>genre</th>\n",
       "      <th>genre_encoded</th>\n",
       "      <th>gross</th>\n",
       "      <th>name</th>\n",
       "      <th>rating</th>\n",
       "      <th>rating_encoded</th>\n",
       "      <th>released</th>\n",
       "      <th>runtime</th>\n",
       "      <th>score</th>\n",
       "      <th>star</th>\n",
       "      <th>votes</th>\n",
       "      <th>writer</th>\n",
       "      <th>year released</th>\n",
       "      <th>year_assignments</th>\n",
       "    </tr>\n",
       "  </thead>\n",
       "  <tbody>\n",
       "    <tr>\n",
       "      <th>0</th>\n",
       "      <td>8000000</td>\n",
       "      <td>Columbia Pictures Corporation</td>\n",
       "      <td>USA</td>\n",
       "      <td>Rob Reiner</td>\n",
       "      <td>Adventure</td>\n",
       "      <td>0</td>\n",
       "      <td>52287414</td>\n",
       "      <td>Stand by Me</td>\n",
       "      <td>R</td>\n",
       "      <td>3</td>\n",
       "      <td>1986-08-22</td>\n",
       "      <td>89</td>\n",
       "      <td>8.1</td>\n",
       "      <td>Wil Wheaton</td>\n",
       "      <td>299174</td>\n",
       "      <td>Stephen King</td>\n",
       "      <td>1986</td>\n",
       "      <td>0</td>\n",
       "    </tr>\n",
       "    <tr>\n",
       "      <th>2</th>\n",
       "      <td>15000000</td>\n",
       "      <td>Paramount Pictures</td>\n",
       "      <td>USA</td>\n",
       "      <td>Tony Scott</td>\n",
       "      <td>Action</td>\n",
       "      <td>2</td>\n",
       "      <td>179800601</td>\n",
       "      <td>Top Gun</td>\n",
       "      <td>PG</td>\n",
       "      <td>1</td>\n",
       "      <td>1986-05-16</td>\n",
       "      <td>110</td>\n",
       "      <td>6.9</td>\n",
       "      <td>Tom Cruise</td>\n",
       "      <td>236909</td>\n",
       "      <td>Jim Cash</td>\n",
       "      <td>1986</td>\n",
       "      <td>0</td>\n",
       "    </tr>\n",
       "    <tr>\n",
       "      <th>3</th>\n",
       "      <td>18500000</td>\n",
       "      <td>Twentieth Century Fox Film Corporation</td>\n",
       "      <td>USA</td>\n",
       "      <td>James Cameron</td>\n",
       "      <td>Action</td>\n",
       "      <td>2</td>\n",
       "      <td>85160248</td>\n",
       "      <td>Aliens</td>\n",
       "      <td>R</td>\n",
       "      <td>3</td>\n",
       "      <td>1986-07-18</td>\n",
       "      <td>137</td>\n",
       "      <td>8.4</td>\n",
       "      <td>Sigourney Weaver</td>\n",
       "      <td>540152</td>\n",
       "      <td>James Cameron</td>\n",
       "      <td>1986</td>\n",
       "      <td>0</td>\n",
       "    </tr>\n",
       "    <tr>\n",
       "      <th>4</th>\n",
       "      <td>9000000</td>\n",
       "      <td>Walt Disney Pictures</td>\n",
       "      <td>USA</td>\n",
       "      <td>Randal Kleiser</td>\n",
       "      <td>Adventure</td>\n",
       "      <td>0</td>\n",
       "      <td>18564613</td>\n",
       "      <td>Flight of the Navigator</td>\n",
       "      <td>PG</td>\n",
       "      <td>1</td>\n",
       "      <td>1986-08-01</td>\n",
       "      <td>90</td>\n",
       "      <td>6.9</td>\n",
       "      <td>Joey Cramer</td>\n",
       "      <td>36636</td>\n",
       "      <td>Mark H. Baker</td>\n",
       "      <td>1986</td>\n",
       "      <td>0</td>\n",
       "    </tr>\n",
       "    <tr>\n",
       "      <th>5</th>\n",
       "      <td>6000000</td>\n",
       "      <td>Hemdale</td>\n",
       "      <td>UK</td>\n",
       "      <td>Oliver Stone</td>\n",
       "      <td>Drama</td>\n",
       "      <td>3</td>\n",
       "      <td>138530565</td>\n",
       "      <td>Platoon</td>\n",
       "      <td>R</td>\n",
       "      <td>3</td>\n",
       "      <td>1987-02-06</td>\n",
       "      <td>120</td>\n",
       "      <td>8.1</td>\n",
       "      <td>Charlie Sheen</td>\n",
       "      <td>317585</td>\n",
       "      <td>Oliver Stone</td>\n",
       "      <td>1986</td>\n",
       "      <td>0</td>\n",
       "    </tr>\n",
       "  </tbody>\n",
       "</table>\n",
       "</div>"
      ],
      "text/plain": [
       "     budget                                 company country        director  \\\n",
       "0   8000000           Columbia Pictures Corporation     USA      Rob Reiner   \n",
       "2  15000000                      Paramount Pictures     USA      Tony Scott   \n",
       "3  18500000  Twentieth Century Fox Film Corporation     USA   James Cameron   \n",
       "4   9000000                    Walt Disney Pictures     USA  Randal Kleiser   \n",
       "5   6000000                                 Hemdale      UK    Oliver Stone   \n",
       "\n",
       "       genre  genre_encoded      gross                     name rating  \\\n",
       "0  Adventure              0   52287414              Stand by Me      R   \n",
       "2     Action              2  179800601                  Top Gun     PG   \n",
       "3     Action              2   85160248                   Aliens      R   \n",
       "4  Adventure              0   18564613  Flight of the Navigator     PG   \n",
       "5      Drama              3  138530565                  Platoon      R   \n",
       "\n",
       "   rating_encoded    released  runtime  score              star   votes  \\\n",
       "0               3  1986-08-22       89    8.1       Wil Wheaton  299174   \n",
       "2               1  1986-05-16      110    6.9        Tom Cruise  236909   \n",
       "3               3  1986-07-18      137    8.4  Sigourney Weaver  540152   \n",
       "4               1  1986-08-01       90    6.9       Joey Cramer   36636   \n",
       "5               3  1987-02-06      120    8.1     Charlie Sheen  317585   \n",
       "\n",
       "          writer  year released  year_assignments  \n",
       "0   Stephen King           1986                 0  \n",
       "2       Jim Cash           1986                 0  \n",
       "3  James Cameron           1986                 0  \n",
       "4  Mark H. Baker           1986                 0  \n",
       "5   Oliver Stone           1986                 0  "
      ]
     },
     "execution_count": 14,
     "metadata": {},
     "output_type": "execute_result"
    }
   ],
   "source": [
    "print(\"All of the movies that are considered an action, drama, or adventure genre\\nare found and then stored in the variable called data_genre_filtered\")\n",
    "desired_genres = ['Action', 'Adventure', 'Drama']\n",
    "data_genre_filtered = data[data['genre'].isin(desired_genres)]\n",
    "data_genre_filtered.head()"
   ]
  },
  {
   "cell_type": "code",
   "execution_count": 40,
   "id": "flexible-indication",
   "metadata": {},
   "outputs": [],
   "source": [
    "action_median_user_votes = data_genre_filtered[data_genre_filtered['genre'] == 'Action']['votes'].median()\n",
    "adventure_median_user_votes = data_genre_filtered[data_genre_filtered['genre'] == 'Adventure']['votes'].median()\n",
    "drama_median_user_votes = data_genre_filtered[data_genre_filtered['genre'] == 'Drama']['votes'].median()\n",
    "median_user_votes = data_genre_filtered['votes'].median()"
   ]
  },
  {
   "cell_type": "code",
   "execution_count": 61,
   "id": "frank-porter",
   "metadata": {},
   "outputs": [
    {
     "data": {
      "image/png": "[encoded data removed]",
      "text/plain": [
       "<Figure size 640x480 with 1 Axes>"
      ]
     },
     "metadata": {
      "needs_background": "light"
     },
     "output_type": "display_data"
    },
    {
     "data": {
      "text/plain": [
       "<ggplot: (320626981)>"
      ]
     },
     "execution_count": 61,
     "metadata": {},
     "output_type": "execute_result"
    }
   ],
   "source": [
    "(ggplot(data_genre_filtered, aes(x = 'genre', y='votes', fill = \"genre\")) \n",
    " + geom_boxplot(stat = \"boxplot\") \n",
    " + theme_minimal() \n",
    " + ggtitle(\"Boxplots of User Votes across the Genres\") \n",
    " + labs(x = \"Genre\", y = \"User Votes\")\n",
    " + geom_hline(aes(yintercept = median_user_votes, color=[\"Overall Median\"]), show_legend=True)\n",
    " + scale_color_manual(values=\"pink\",name=' ')\n",
    ")"
   ]
  },
  {
   "cell_type": "code",
   "execution_count": 38,
   "id": "novel-hungarian",
   "metadata": {},
   "outputs": [
    {
     "name": "stdout",
     "output_type": "stream",
     "text": [
      "The median number of user votes for Action movies is:\n",
      "55046.0\n",
      "\n",
      "The median number of user votes for Adventure movies is:\n",
      "39098.5\n",
      "\n",
      "The median number of user votes for Drama movies is:\n",
      "16435.5\n",
      "\n"
     ]
    }
   ],
   "source": [
    "print(\"The median number of user votes for Action movies is:\\n\" + str(action_median_user_votes) + \"\\n\")\n",
    "print(\"The median number of user votes for Adventure movies is:\\n\" + str(adventure_median_user_votes)+ \"\\n\")\n",
    "print(\"The median number of user votes for Drama movies is:\\n\" + str(drama_median_user_votes)+ \"\\n\")"
   ]
  },
  {
   "cell_type": "markdown",
   "id": "earlier-florist",
   "metadata": {},
   "source": [
    "# Question 2 Part 1 Discussion\n",
    "- We created a boxplot (shown above) to help us gain insight or a better understanding of the user votes variability across the 3 different genres of interest (Action - red, Adventure - green, Drama - blue). The boxplot above is an effective visualization of the distribution of user votes for each genre because it allows us to see the shape of the distribution of the data. The black horizontal lines within each box represent the median (value separating the higher half from the lower half of a data sample) number of user votes for that genre. We can observe that the medians for each category is very small compared to the high points that fall out of their box's container. The pink line represents the median number of votes across all 3 genres. This overall median value is small like each genre's median which what we expect given the small medians for each genre. \n",
    "- These observations tell us that the large majority of movies do not have a great amount of votes. The very high user votes values across the different genres are outliers because these movies performed exceptionally well in regards to user votes. \n",
    "- The size of the boxes provide us with insight in terms of the amount of variability observed in each genre. Generally speaking, the larger a box is of a boxplot means that there is more variability of data in that sample. The Action genre has the largest box of all 3 boxes above, which indicates that Action genres have greater variability in terms of user votes. Adventure has the second most variability and drama has the least variability of these 3 genres.\n",
    "- We cannot draw any concrete conslusions with this knowledge but it is insightful to learn and expand upon to gain a better overall understanding of the data. For example, perhaps Action has the largest amount of variability because there are a lot of action movies. If there are a lot of movies in a certain genre, it may be more difficult for smaller movies of that genre to stand out and get user votes. To gain a better understanding of the different genres, we create barplots of the data next."
   ]
  },
  {
   "cell_type": "code",
   "execution_count": 16,
   "id": "polyphonic-alignment",
   "metadata": {},
   "outputs": [
    {
     "data": {
      "text/plain": [
       "{'Action': {'avg_user_votes': 112157.26897069873,\n",
       "  'genre': 'Action',\n",
       "  'count': 1331},\n",
       " 'Adventure': {'avg_user_votes': 106109.04081632652,\n",
       "  'genre': 'Adventure',\n",
       "  'count': 392},\n",
       " 'Drama': {'avg_user_votes': 53389.16966759003,\n",
       "  'genre': 'Drama',\n",
       "  'count': 1444}}"
      ]
     },
     "execution_count": 16,
     "metadata": {},
     "output_type": "execute_result"
    }
   ],
   "source": [
    "# init dict that will hold avg votes for each desired genre\n",
    "user_votes_genres = {\n",
    "    \"Action\": {\n",
    "        \"avg_user_votes\": 0,\n",
    "        \"genre\": 'Action',\n",
    "        \"count\": 0\n",
    "    },\n",
    "    \"Adventure\": {\n",
    "        \"avg_user_votes\": 0,\n",
    "        \"genre\": \"Adventure\",\n",
    "        \"count\": 0\n",
    "    },\n",
    "    \"Drama\": {\n",
    "        \"avg_user_votes\": 0,\n",
    "        \"genre\": \"Drama\",\n",
    "        \"count\": 0\n",
    "    }\n",
    "}\n",
    "\n",
    "# populate dict with avg votes for each genre\n",
    "for key in user_votes_genres:\n",
    "    user_votes_genres[key]['avg_user_votes'] = np.mean(data_genre_filtered[data_genre_filtered['genre'] == key]['votes'])\n",
    "    user_votes_genres[key]['count'] = len(data_genre_filtered[data_genre_filtered['genre'] == key])\n",
    "user_votes_genres"
   ]
  },
  {
   "cell_type": "code",
   "execution_count": 17,
   "id": "native-aluminum",
   "metadata": {},
   "outputs": [
    {
     "data": {
      "text/html": [
       "<div>\n",
       "<style scoped>\n",
       "    .dataframe tbody tr th:only-of-type {\n",
       "        vertical-align: middle;\n",
       "    }\n",
       "\n",
       "    .dataframe tbody tr th {\n",
       "        vertical-align: top;\n",
       "    }\n",
       "\n",
       "    .dataframe thead th {\n",
       "        text-align: right;\n",
       "    }\n",
       "</style>\n",
       "<table border=\"1\" class=\"dataframe\">\n",
       "  <thead>\n",
       "    <tr style=\"text-align: right;\">\n",
       "      <th></th>\n",
       "      <th>avg_user_votes</th>\n",
       "      <th>genre</th>\n",
       "      <th>count</th>\n",
       "    </tr>\n",
       "  </thead>\n",
       "  <tbody>\n",
       "    <tr>\n",
       "      <th>Action</th>\n",
       "      <td>112157.268971</td>\n",
       "      <td>Action</td>\n",
       "      <td>1331</td>\n",
       "    </tr>\n",
       "    <tr>\n",
       "      <th>Adventure</th>\n",
       "      <td>106109.040816</td>\n",
       "      <td>Adventure</td>\n",
       "      <td>392</td>\n",
       "    </tr>\n",
       "    <tr>\n",
       "      <th>Drama</th>\n",
       "      <td>53389.169668</td>\n",
       "      <td>Drama</td>\n",
       "      <td>1444</td>\n",
       "    </tr>\n",
       "  </tbody>\n",
       "</table>\n",
       "</div>"
      ],
      "text/plain": [
       "           avg_user_votes      genre  count\n",
       "Action      112157.268971     Action   1331\n",
       "Adventure   106109.040816  Adventure    392\n",
       "Drama        53389.169668      Drama   1444"
      ]
     },
     "execution_count": 17,
     "metadata": {},
     "output_type": "execute_result"
    }
   ],
   "source": [
    "# plt.bar(avg_user_votes_genres.keys(), avg_user_votes_genres.values())\n",
    "DF_user_votes_genres = pd.DataFrame.from_dict(user_votes_genres, orient = 'index')\n",
    "DF_user_votes_genres"
   ]
  },
  {
   "cell_type": "code",
   "execution_count": 18,
   "id": "labeled-bicycle",
   "metadata": {},
   "outputs": [
    {
     "data": {
      "image/png": "[encoded data removed]",
      "text/plain": [
       "<Figure size 640x480 with 1 Axes>"
      ]
     },
     "metadata": {
      "needs_background": "light"
     },
     "output_type": "display_data"
    },
    {
     "data": {
      "text/plain": [
       "<ggplot: (316709386)>"
      ]
     },
     "execution_count": 18,
     "metadata": {},
     "output_type": "execute_result"
    }
   ],
   "source": [
    "(ggplot(DF_user_votes_genres, aes(x = 'genre', y='avg_user_votes')) + geom_bar(stat = \"identity\", color = \"purple\", fill=\"skyblue\") + theme_minimal() + ggtitle(\"Average Number of User Votes across the Different Genres\") + labs(x = \"Genre\", y = \"Average Number of User Votes\"))"
   ]
  },
  {
   "cell_type": "code",
   "execution_count": 19,
   "id": "acceptable-operation",
   "metadata": {},
   "outputs": [
    {
     "data": {
      "image/png": "[encoded data removed]",
      "text/plain": [
       "<Figure size 640x480 with 1 Axes>"
      ]
     },
     "metadata": {
      "needs_background": "light"
     },
     "output_type": "display_data"
    },
    {
     "data": {
      "text/plain": [
       "<ggplot: (316708130)>"
      ]
     },
     "execution_count": 19,
     "metadata": {},
     "output_type": "execute_result"
    }
   ],
   "source": [
    "(ggplot(DF_user_votes_genres, aes(x = 'genre', y='count')) + geom_bar(stat = \"identity\", color = \"purple\", fill=\"skyblue\") + theme_minimal() + ggtitle(\"Total Number of Movies for each Genre\") + labs(x = \"Genre\", y = \"Total Number of Movies\"))"
   ]
  },
  {
   "cell_type": "markdown",
   "id": "perfect-termination",
   "metadata": {},
   "source": [
    "## Anaylsis Plan\n",
    "## TODO"
   ]
  },
  {
   "cell_type": "markdown",
   "id": "certain-springer",
   "metadata": {},
   "source": [
    "# Question 6\n",
    "\n",
    "## What is the minimum number of features needed to predict whether a movie will gross over 250K and over 500K with at least 70% explained variance? "
   ]
  },
  {
   "cell_type": "code",
   "execution_count": 20,
   "id": "binding-friendly",
   "metadata": {},
   "outputs": [],
   "source": [
    "cont_features = ['budget', 'runtime', 'score', 'votes', 'year released', 'gross']\n",
    "cont_predictors = ['budget', 'runtime', 'score', 'votes', 'year released']"
   ]
  },
  {
   "cell_type": "code",
   "execution_count": 21,
   "id": "light-minutes",
   "metadata": {},
   "outputs": [
    {
     "data": {
      "text/html": [
       "<div>\n",
       "<style scoped>\n",
       "    .dataframe tbody tr th:only-of-type {\n",
       "        vertical-align: middle;\n",
       "    }\n",
       "\n",
       "    .dataframe tbody tr th {\n",
       "        vertical-align: top;\n",
       "    }\n",
       "\n",
       "    .dataframe thead th {\n",
       "        text-align: right;\n",
       "    }\n",
       "</style>\n",
       "<table border=\"1\" class=\"dataframe\">\n",
       "  <thead>\n",
       "    <tr style=\"text-align: right;\">\n",
       "      <th></th>\n",
       "      <th>budget</th>\n",
       "      <th>runtime</th>\n",
       "      <th>score</th>\n",
       "      <th>votes</th>\n",
       "      <th>year released</th>\n",
       "      <th>gross</th>\n",
       "    </tr>\n",
       "  </thead>\n",
       "  <tbody>\n",
       "    <tr>\n",
       "      <th>6815</th>\n",
       "      <td>0</td>\n",
       "      <td>91</td>\n",
       "      <td>5.4</td>\n",
       "      <td>9161</td>\n",
       "      <td>2016</td>\n",
       "      <td>4750497</td>\n",
       "    </tr>\n",
       "    <tr>\n",
       "      <th>6816</th>\n",
       "      <td>0</td>\n",
       "      <td>90</td>\n",
       "      <td>4.9</td>\n",
       "      <td>1959</td>\n",
       "      <td>2016</td>\n",
       "      <td>28368</td>\n",
       "    </tr>\n",
       "    <tr>\n",
       "      <th>6817</th>\n",
       "      <td>3500000</td>\n",
       "      <td>76</td>\n",
       "      <td>6.5</td>\n",
       "      <td>36333</td>\n",
       "      <td>2016</td>\n",
       "      <td>3775000</td>\n",
       "    </tr>\n",
       "    <tr>\n",
       "      <th>6818</th>\n",
       "      <td>0</td>\n",
       "      <td>76</td>\n",
       "      <td>6.2</td>\n",
       "      <td>6947</td>\n",
       "      <td>2016</td>\n",
       "      <td>25981</td>\n",
       "    </tr>\n",
       "    <tr>\n",
       "      <th>6819</th>\n",
       "      <td>0</td>\n",
       "      <td>120</td>\n",
       "      <td>6.7</td>\n",
       "      <td>2411</td>\n",
       "      <td>2016</td>\n",
       "      <td>37757</td>\n",
       "    </tr>\n",
       "  </tbody>\n",
       "</table>\n",
       "</div>"
      ],
      "text/plain": [
       "       budget  runtime  score  votes  year released    gross\n",
       "6815        0       91    5.4   9161           2016  4750497\n",
       "6816        0       90    4.9   1959           2016    28368\n",
       "6817  3500000       76    6.5  36333           2016  3775000\n",
       "6818        0       76    6.2   6947           2016    25981\n",
       "6819        0      120    6.7   2411           2016    37757"
      ]
     },
     "execution_count": 21,
     "metadata": {},
     "output_type": "execute_result"
    }
   ],
   "source": [
    "data_gross_cont_filtered = data[cont_features]\n",
    "data_gross_cont_filtered.tail()"
   ]
  },
  {
   "cell_type": "code",
   "execution_count": 22,
   "id": "sharp-question",
   "metadata": {},
   "outputs": [
    {
     "name": "stdout",
     "output_type": "stream",
     "text": [
      "6820\n",
      "6820\n"
     ]
    }
   ],
   "source": [
    "z = StandardScaler()\n",
    "gross_over_250k = []\n",
    "gross_over_500k = []\n",
    "for i in data_gross_cont_filtered['gross']:\n",
    "    if i > 250000:\n",
    "        gross_over_250k.append(1)\n",
    "    else:\n",
    "        gross_over_250k.append(0)\n",
    "    if i > 500000:\n",
    "        gross_over_500k.append(1)\n",
    "    else:\n",
    "        gross_over_500k.append(0)\n",
    "\n",
    "print(len(gross_over_250k))\n",
    "print(len(gross_over_500k))"
   ]
  },
  {
   "cell_type": "code",
   "execution_count": 23,
   "id": "hazardous-television",
   "metadata": {},
   "outputs": [
    {
     "data": {
      "text/html": [
       "<div>\n",
       "<style scoped>\n",
       "    .dataframe tbody tr th:only-of-type {\n",
       "        vertical-align: middle;\n",
       "    }\n",
       "\n",
       "    .dataframe tbody tr th {\n",
       "        vertical-align: top;\n",
       "    }\n",
       "\n",
       "    .dataframe thead th {\n",
       "        text-align: right;\n",
       "    }\n",
       "</style>\n",
       "<table border=\"1\" class=\"dataframe\">\n",
       "  <thead>\n",
       "    <tr style=\"text-align: right;\">\n",
       "      <th></th>\n",
       "      <th>budget</th>\n",
       "      <th>runtime</th>\n",
       "      <th>score</th>\n",
       "      <th>votes</th>\n",
       "      <th>year released</th>\n",
       "      <th>gross</th>\n",
       "      <th>gross_over_250k</th>\n",
       "      <th>gross_over_500k</th>\n",
       "    </tr>\n",
       "  </thead>\n",
       "  <tbody>\n",
       "    <tr>\n",
       "      <th>6812</th>\n",
       "      <td>0</td>\n",
       "      <td>96</td>\n",
       "      <td>5.7</td>\n",
       "      <td>4439</td>\n",
       "      <td>2016</td>\n",
       "      <td>23020</td>\n",
       "      <td>0</td>\n",
       "      <td>0</td>\n",
       "    </tr>\n",
       "    <tr>\n",
       "      <th>6813</th>\n",
       "      <td>0</td>\n",
       "      <td>120</td>\n",
       "      <td>6.2</td>\n",
       "      <td>6054</td>\n",
       "      <td>2016</td>\n",
       "      <td>228894</td>\n",
       "      <td>0</td>\n",
       "      <td>0</td>\n",
       "    </tr>\n",
       "    <tr>\n",
       "      <th>6814</th>\n",
       "      <td>20000000</td>\n",
       "      <td>107</td>\n",
       "      <td>6.3</td>\n",
       "      <td>19084</td>\n",
       "      <td>2016</td>\n",
       "      <td>36874745</td>\n",
       "      <td>1</td>\n",
       "      <td>1</td>\n",
       "    </tr>\n",
       "    <tr>\n",
       "      <th>6815</th>\n",
       "      <td>0</td>\n",
       "      <td>91</td>\n",
       "      <td>5.4</td>\n",
       "      <td>9161</td>\n",
       "      <td>2016</td>\n",
       "      <td>4750497</td>\n",
       "      <td>1</td>\n",
       "      <td>1</td>\n",
       "    </tr>\n",
       "    <tr>\n",
       "      <th>6816</th>\n",
       "      <td>0</td>\n",
       "      <td>90</td>\n",
       "      <td>4.9</td>\n",
       "      <td>1959</td>\n",
       "      <td>2016</td>\n",
       "      <td>28368</td>\n",
       "      <td>0</td>\n",
       "      <td>0</td>\n",
       "    </tr>\n",
       "    <tr>\n",
       "      <th>6817</th>\n",
       "      <td>3500000</td>\n",
       "      <td>76</td>\n",
       "      <td>6.5</td>\n",
       "      <td>36333</td>\n",
       "      <td>2016</td>\n",
       "      <td>3775000</td>\n",
       "      <td>1</td>\n",
       "      <td>1</td>\n",
       "    </tr>\n",
       "    <tr>\n",
       "      <th>6818</th>\n",
       "      <td>0</td>\n",
       "      <td>76</td>\n",
       "      <td>6.2</td>\n",
       "      <td>6947</td>\n",
       "      <td>2016</td>\n",
       "      <td>25981</td>\n",
       "      <td>0</td>\n",
       "      <td>0</td>\n",
       "    </tr>\n",
       "    <tr>\n",
       "      <th>6819</th>\n",
       "      <td>0</td>\n",
       "      <td>120</td>\n",
       "      <td>6.7</td>\n",
       "      <td>2411</td>\n",
       "      <td>2016</td>\n",
       "      <td>37757</td>\n",
       "      <td>0</td>\n",
       "      <td>0</td>\n",
       "    </tr>\n",
       "  </tbody>\n",
       "</table>\n",
       "</div>"
      ],
      "text/plain": [
       "        budget  runtime  score  votes  year released     gross  \\\n",
       "6812         0       96    5.7   4439           2016     23020   \n",
       "6813         0      120    6.2   6054           2016    228894   \n",
       "6814  20000000      107    6.3  19084           2016  36874745   \n",
       "6815         0       91    5.4   9161           2016   4750497   \n",
       "6816         0       90    4.9   1959           2016     28368   \n",
       "6817   3500000       76    6.5  36333           2016   3775000   \n",
       "6818         0       76    6.2   6947           2016     25981   \n",
       "6819         0      120    6.7   2411           2016     37757   \n",
       "\n",
       "      gross_over_250k  gross_over_500k  \n",
       "6812                0                0  \n",
       "6813                0                0  \n",
       "6814                1                1  \n",
       "6815                1                1  \n",
       "6816                0                0  \n",
       "6817                1                1  \n",
       "6818                0                0  \n",
       "6819                0                0  "
      ]
     },
     "execution_count": 23,
     "metadata": {},
     "output_type": "execute_result"
    }
   ],
   "source": [
    "data_gross_cont_filtered['gross_over_250k'] = gross_over_250k\n",
    "data_gross_cont_filtered['gross_over_500k'] = gross_over_500k\n",
    "data_gross_cont_filtered.tail(8)"
   ]
  },
  {
   "cell_type": "markdown",
   "id": "chubby-offset",
   "metadata": {},
   "source": [
    "## PCA Models:"
   ]
  },
  {
   "cell_type": "markdown",
   "id": "outer-crawford",
   "metadata": {},
   "source": [
    "### PCA Model for predicting gross over 250K"
   ]
  },
  {
   "cell_type": "code",
   "execution_count": 24,
   "id": "brief-criminal",
   "metadata": {},
   "outputs": [
    {
     "data": {
      "text/plain": [
       "PCA()"
      ]
     },
     "execution_count": 24,
     "metadata": {},
     "output_type": "execute_result"
    }
   ],
   "source": [
    "PCA_LR_Model_250k = LogisticRegression() # init an empty Logistic Regression model\n",
    "\n",
    "# Use TTS with a 90/10 split (since data is large)\n",
    "PCA_LR_X_train_250k, PCA_LR_X_test_250k, PCA_LR_y_train_250k, PCA_LR_y_test_250k = train_test_split(data_gross_cont_filtered[cont_predictors], data_gross_cont_filtered[\"gross_over_250k\"], test_size=0.1)\n",
    "\n",
    "# z-score predictors\n",
    "PCA_LR_X_train_250k[cont_predictors] = z.fit_transform(PCA_LR_X_train_250k[cont_predictors]) # z-score and fit bc model is trained with train data\n",
    "PCA_LR_X_test_250k[cont_predictors] = z.transform(PCA_LR_X_test_250k[cont_predictors]) # z-score but do not fit bc do not want to leak test data into model\n",
    "\n",
    "PCA_Model_250k = PCA()\n",
    "PCA_Model_250k.fit(PCA_LR_X_train_250k)"
   ]
  },
  {
   "cell_type": "code",
   "execution_count": 25,
   "id": "japanese-utilization",
   "metadata": {},
   "outputs": [
    {
     "name": "stdout",
     "output_type": "stream",
     "text": [
      "PCA Logistic Regression Model ~ Mean Squared Error:\n",
      "0.1187683284457478\n",
      "\n",
      "PCA Logistic Regression Model ~ r2 score:\n",
      "-0.12280487804878026\n"
     ]
    }
   ],
   "source": [
    "# mapping of both training and testing set to the PCA Model\n",
    "PCA_LR_X_train_250k = PCA_Model_250k.transform(PCA_LR_X_train_250k)\n",
    "PCA_LR_X_test_250k = PCA_Model_250k.transform(PCA_LR_X_test_250k)\n",
    "\n",
    "# apply PCA to the training set\n",
    "PCA_LR_Model_250k.fit(PCA_LR_X_train_250k, PCA_LR_y_train_250k) # fit the X and y training data to the LR model\n",
    "\n",
    "PCA_LR_y_pred_250k = PCA_LR_Model_250k.predict(PCA_LR_X_test_250k)\n",
    "\n",
    "PCA_LR_mse_250k = mean_squared_error(PCA_LR_y_test_250k, PCA_LR_y_pred_250k)\n",
    "PCA_LR_r2_250k = r2_score(PCA_LR_y_test_250k, PCA_LR_y_pred_250k)\n",
    "\n",
    "print(\"PCA Logistic Regression Model ~ Mean Squared Error:\\n\" + str(PCA_LR_mse_250k) + \"\\n\")\n",
    "print(\"PCA Logistic Regression Model ~ r2 score:\\n\" + str(PCA_LR_r2_250k))"
   ]
  },
  {
   "cell_type": "markdown",
   "id": "unauthorized-venice",
   "metadata": {},
   "source": [
    "### PCA Model for predicting gross over 500K"
   ]
  },
  {
   "cell_type": "code",
   "execution_count": 26,
   "id": "cloudy-incidence",
   "metadata": {},
   "outputs": [
    {
     "data": {
      "text/plain": [
       "PCA()"
      ]
     },
     "execution_count": 26,
     "metadata": {},
     "output_type": "execute_result"
    }
   ],
   "source": [
    "PCA_LR_Model_500k = LogisticRegression() # init an empty Logistic Regression model\n",
    "\n",
    "# Use TTS with a 90/10 split (since data is large)\n",
    "PCA_LR_X_train_500k, PCA_LR_X_test_500k, PCA_LR_y_train_500k, PCA_LR_y_test_500k = train_test_split(data_gross_cont_filtered[cont_predictors], data_gross_cont_filtered[\"gross_over_500k\"], test_size=0.1)\n",
    "\n",
    "# z-score predictors\n",
    "PCA_LR_X_train_500k[cont_predictors] = z.fit_transform(PCA_LR_X_train_500k[cont_predictors]) # z-score and fit bc model is trained with train data\n",
    "PCA_LR_X_test_500k[cont_predictors] = z.transform(PCA_LR_X_test_500k[cont_predictors]) # z-score but do not fit bc do not want to leak test data into model\n",
    "\n",
    "PCA_Model_500k = PCA()\n",
    "PCA_Model_500k.fit(PCA_LR_X_train_500k)"
   ]
  },
  {
   "cell_type": "code",
   "execution_count": 27,
   "id": "applicable-double",
   "metadata": {},
   "outputs": [
    {
     "name": "stdout",
     "output_type": "stream",
     "text": [
      "PCA Logistic Regression Model ~ Mean Squared Error:\n",
      "0.14809384164222875\n",
      "\n",
      "PCA Logistic Regression Model ~ r2 score:\n",
      "-0.08679257190640732\n"
     ]
    }
   ],
   "source": [
    "# mapping of both training and testing set to the PCA Model\n",
    "PCA_LR_X_train_500k = PCA_Model_250k.transform(PCA_LR_X_train_500k)\n",
    "PCA_LR_X_test_500k = PCA_Model_250k.transform(PCA_LR_X_test_500k)\n",
    "\n",
    "# apply PCA to the training set\n",
    "PCA_LR_Model_500k.fit(PCA_LR_X_train_500k, PCA_LR_y_train_500k) # fit the X and y training data to the LR model\n",
    "\n",
    "PCA_LR_y_pred_500k = PCA_LR_Model_500k.predict(PCA_LR_X_test_500k)\n",
    "\n",
    "PCA_LR_mse_500k = mean_squared_error(PCA_LR_y_test_500k, PCA_LR_y_pred_500k)\n",
    "PCA_LR_r2_500k = r2_score(PCA_LR_y_test_500k, PCA_LR_y_pred_500k)\n",
    "\n",
    "print(\"PCA Logistic Regression Model ~ Mean Squared Error:\\n\" + str(PCA_LR_mse_500k) + \"\\n\")\n",
    "print(\"PCA Logistic Regression Model ~ r2 score:\\n\" + str(PCA_LR_r2_500k))"
   ]
  },
  {
   "cell_type": "markdown",
   "id": "indirect-folks",
   "metadata": {},
   "source": [
    "## Creating Dataframes of Principle Components"
   ]
  },
  {
   "cell_type": "markdown",
   "id": "coupled-nation",
   "metadata": {},
   "source": [
    "### Principle Components Dataframe for model predicting gross over 250K:"
   ]
  },
  {
   "cell_type": "code",
   "execution_count": 28,
   "id": "balanced-listening",
   "metadata": {},
   "outputs": [
    {
     "data": {
      "text/html": [
       "<div>\n",
       "<style scoped>\n",
       "    .dataframe tbody tr th:only-of-type {\n",
       "        vertical-align: middle;\n",
       "    }\n",
       "\n",
       "    .dataframe tbody tr th {\n",
       "        vertical-align: top;\n",
       "    }\n",
       "\n",
       "    .dataframe thead th {\n",
       "        text-align: right;\n",
       "    }\n",
       "</style>\n",
       "<table border=\"1\" class=\"dataframe\">\n",
       "  <thead>\n",
       "    <tr style=\"text-align: right;\">\n",
       "      <th></th>\n",
       "      <th>Explained_Variance</th>\n",
       "      <th>Principle_Components</th>\n",
       "      <th>Cumulative_Variance</th>\n",
       "    </tr>\n",
       "  </thead>\n",
       "  <tbody>\n",
       "    <tr>\n",
       "      <th>0</th>\n",
       "      <td>0.419516</td>\n",
       "      <td>1</td>\n",
       "      <td>0.419516</td>\n",
       "    </tr>\n",
       "    <tr>\n",
       "      <th>1</th>\n",
       "      <td>0.219282</td>\n",
       "      <td>2</td>\n",
       "      <td>0.638798</td>\n",
       "    </tr>\n",
       "    <tr>\n",
       "      <th>2</th>\n",
       "      <td>0.159192</td>\n",
       "      <td>3</td>\n",
       "      <td>0.797991</td>\n",
       "    </tr>\n",
       "    <tr>\n",
       "      <th>3</th>\n",
       "      <td>0.130919</td>\n",
       "      <td>4</td>\n",
       "      <td>0.928910</td>\n",
       "    </tr>\n",
       "    <tr>\n",
       "      <th>4</th>\n",
       "      <td>0.071090</td>\n",
       "      <td>5</td>\n",
       "      <td>1.000000</td>\n",
       "    </tr>\n",
       "  </tbody>\n",
       "</table>\n",
       "</div>"
      ],
      "text/plain": [
       "   Explained_Variance  Principle_Components  Cumulative_Variance\n",
       "0            0.419516                     1             0.419516\n",
       "1            0.219282                     2             0.638798\n",
       "2            0.159192                     3             0.797991\n",
       "3            0.130919                     4             0.928910\n",
       "4            0.071090                     5             1.000000"
      ]
     },
     "execution_count": 28,
     "metadata": {},
     "output_type": "execute_result"
    }
   ],
   "source": [
    "PCA_DF_250k = pd.DataFrame({\n",
    "    \"Explained_Variance\": PCA_Model_250k.explained_variance_ratio_,\n",
    "    \"Principle_Components\": range(1, 6),\n",
    "    \"Cumulative_Variance\": PCA_Model_250k.explained_variance_ratio_.cumsum()\n",
    "})\n",
    "\n",
    "PCA_DF_250k.head()"
   ]
  },
  {
   "cell_type": "markdown",
   "id": "arabic-investor",
   "metadata": {},
   "source": [
    "### Principle Components Dataframe for model predicting gross over 500K:"
   ]
  },
  {
   "cell_type": "code",
   "execution_count": 29,
   "id": "nutritional-leeds",
   "metadata": {},
   "outputs": [
    {
     "data": {
      "text/html": [
       "<div>\n",
       "<style scoped>\n",
       "    .dataframe tbody tr th:only-of-type {\n",
       "        vertical-align: middle;\n",
       "    }\n",
       "\n",
       "    .dataframe tbody tr th {\n",
       "        vertical-align: top;\n",
       "    }\n",
       "\n",
       "    .dataframe thead th {\n",
       "        text-align: right;\n",
       "    }\n",
       "</style>\n",
       "<table border=\"1\" class=\"dataframe\">\n",
       "  <thead>\n",
       "    <tr style=\"text-align: right;\">\n",
       "      <th></th>\n",
       "      <th>Explained_Variance</th>\n",
       "      <th>Principle_Components</th>\n",
       "      <th>Cumulative_Variance</th>\n",
       "    </tr>\n",
       "  </thead>\n",
       "  <tbody>\n",
       "    <tr>\n",
       "      <th>0</th>\n",
       "      <td>0.420626</td>\n",
       "      <td>1</td>\n",
       "      <td>0.420626</td>\n",
       "    </tr>\n",
       "    <tr>\n",
       "      <th>1</th>\n",
       "      <td>0.219585</td>\n",
       "      <td>2</td>\n",
       "      <td>0.640211</td>\n",
       "    </tr>\n",
       "    <tr>\n",
       "      <th>2</th>\n",
       "      <td>0.159250</td>\n",
       "      <td>3</td>\n",
       "      <td>0.799461</td>\n",
       "    </tr>\n",
       "    <tr>\n",
       "      <th>3</th>\n",
       "      <td>0.129199</td>\n",
       "      <td>4</td>\n",
       "      <td>0.928661</td>\n",
       "    </tr>\n",
       "    <tr>\n",
       "      <th>4</th>\n",
       "      <td>0.071339</td>\n",
       "      <td>5</td>\n",
       "      <td>1.000000</td>\n",
       "    </tr>\n",
       "  </tbody>\n",
       "</table>\n",
       "</div>"
      ],
      "text/plain": [
       "   Explained_Variance  Principle_Components  Cumulative_Variance\n",
       "0            0.420626                     1             0.420626\n",
       "1            0.219585                     2             0.640211\n",
       "2            0.159250                     3             0.799461\n",
       "3            0.129199                     4             0.928661\n",
       "4            0.071339                     5             1.000000"
      ]
     },
     "execution_count": 29,
     "metadata": {},
     "output_type": "execute_result"
    }
   ],
   "source": [
    "PCA_DF_500k = pd.DataFrame({\n",
    "    \"Explained_Variance\": PCA_Model_500k.explained_variance_ratio_,\n",
    "    \"Principle_Components\": range(1, 6),\n",
    "    \"Cumulative_Variance\": PCA_Model_500k.explained_variance_ratio_.cumsum()\n",
    "})\n",
    "\n",
    "PCA_DF_500k.head()"
   ]
  },
  {
   "cell_type": "markdown",
   "id": "united-privacy",
   "metadata": {},
   "source": [
    "## Creating the PCA Skree Plots"
   ]
  },
  {
   "cell_type": "markdown",
   "id": "african-terry",
   "metadata": {},
   "source": [
    "### PCA Skree Plots for Model predicting gross over 250K:"
   ]
  },
  {
   "cell_type": "code",
   "execution_count": 30,
   "id": "artificial-quebec",
   "metadata": {},
   "outputs": [
    {
     "data": {
      "image/png": "[encoded data removed]",
      "text/plain": [
       "<Figure size 640x480 with 1 Axes>"
      ]
     },
     "metadata": {
      "needs_background": "light"
     },
     "output_type": "display_data"
    },
    {
     "data": {
      "text/plain": [
       "<ggplot: (316836419)>"
      ]
     },
     "execution_count": 30,
     "metadata": {},
     "output_type": "execute_result"
    }
   ],
   "source": [
    "# pca a scree plot\n",
    "(ggplot(PCA_DF_250k, aes(x = \"Principle_Components\", y = \"Explained_Variance\")) + geom_point() + geom_line() + theme_minimal() + ggtitle(\"Principle Component Analysis (PCA) Model (predicting over 250K) Skree Plot\") + labs(x = \"Principle Components\", y = \"Explained Variance\"))"
   ]
  },
  {
   "cell_type": "markdown",
   "id": "excess-moore",
   "metadata": {},
   "source": [
    "### *Inversed Variant* PCA Skree Plots for Model predicting gross over 250K:"
   ]
  },
  {
   "cell_type": "code",
   "execution_count": 31,
   "id": "subtle-director",
   "metadata": {},
   "outputs": [
    {
     "data": {
      "image/png": "[encoded data removed]",
      "text/plain": [
       "<Figure size 640x480 with 1 Axes>"
      ]
     },
     "metadata": {
      "needs_background": "light"
     },
     "output_type": "display_data"
    },
    {
     "data": {
      "text/plain": [
       "<ggplot: (316843463)>"
      ]
     },
     "execution_count": 31,
     "metadata": {},
     "output_type": "execute_result"
    }
   ],
   "source": [
    "# Figure out how many PCs you need to keep to retain 70% of the original variance.\n",
    "(ggplot(PCA_DF_250k, aes(x = \"Principle_Components\", y = \"Cumulative_Variance\")) + geom_point() + geom_line(color = \"blue\") + geom_hline(yintercept = 0.70, color = \"orange\") + theme_minimal() + ggtitle(\"Principle Component Analysis (PCA) Model (predicting gross over 250K) *Inversed Variant* Skree Plot\") + labs(x = \"Principle Components\", y = \"Cumulative Variance\"))"
   ]
  },
  {
   "cell_type": "markdown",
   "id": "civil-lotus",
   "metadata": {},
   "source": [
    "### PCA Skree Plots for Model predicting gross over 500K:"
   ]
  },
  {
   "cell_type": "code",
   "execution_count": 32,
   "id": "rubber-staff",
   "metadata": {},
   "outputs": [
    {
     "data": {
      "image/png": "[encoded data removed]",
      "text/plain": [
       "<Figure size 640x480 with 1 Axes>"
      ]
     },
     "metadata": {
      "needs_background": "light"
     },
     "output_type": "display_data"
    },
    {
     "data": {
      "text/plain": [
       "<ggplot: (319007501)>"
      ]
     },
     "execution_count": 32,
     "metadata": {},
     "output_type": "execute_result"
    }
   ],
   "source": [
    "# pca a scree plot\n",
    "(ggplot(PCA_DF_500k, aes(x = \"Principle_Components\", y = \"Explained_Variance\")) + geom_point() + geom_line() + theme_minimal() + ggtitle(\"Principle Component Analysis (PCA) Model (predicting over 500K) Skree Plot\") + labs(x = \"Principle Components\", y = \"Explained Variance\"))"
   ]
  },
  {
   "cell_type": "markdown",
   "id": "hired-patent",
   "metadata": {},
   "source": [
    "### *Inversed Variant* PCA Skree Plots for Model predicting gross over 500K:"
   ]
  },
  {
   "cell_type": "code",
   "execution_count": 33,
   "id": "crazy-church",
   "metadata": {},
   "outputs": [
    {
     "data": {
      "image/png": "[encoded data removed]",
      "text/plain": [
       "<Figure size 640x480 with 1 Axes>"
      ]
     },
     "metadata": {
      "needs_background": "light"
     },
     "output_type": "display_data"
    },
    {
     "data": {
      "text/plain": [
       "<ggplot: (319061324)>"
      ]
     },
     "execution_count": 33,
     "metadata": {},
     "output_type": "execute_result"
    }
   ],
   "source": [
    "# Figure out how many PCs you need to keep to retain 70% of the original variance.\n",
    "(ggplot(PCA_DF_500k, aes(x = \"Principle_Components\", y = \"Cumulative_Variance\")) + geom_point() + geom_line(color = \"blue\") + geom_hline(yintercept = 0.70, color = \"orange\") + theme_minimal() + ggtitle(\"Principle Component Analysis (PCA) Model (predicting gross over 500K) *Inversed Variant* Skree Plot\") + labs(x = \"Principle Components\", y = \"Cumulative Variance\"))"
   ]
  },
  {
   "cell_type": "code",
   "execution_count": 34,
   "id": "fatty-lewis",
   "metadata": {},
   "outputs": [],
   "source": [
    "# method used to calculate the min number of principle components to achieve the threshold cumulative accuracy\n",
    "def calc_min_pc(data_frame, col_name, threshold):\n",
    "    pc_index = 0\n",
    "    for pc in data_frame[col_name]:\n",
    "        pc_index += 1\n",
    "        if pc >= threshold:\n",
    "            return pc_index"
   ]
  },
  {
   "cell_type": "code",
   "execution_count": 35,
   "id": "governing-thomas",
   "metadata": {},
   "outputs": [
    {
     "name": "stdout",
     "output_type": "stream",
     "text": [
      "\n",
      "\n",
      "According to PCA, the Logistic Regression Model only needs 3 Principle Components to predict a movie will gross over 250K with at least 70% accuracy\n",
      "\n",
      "\n",
      "According to PCA, the Logistic Regression Model only needs 3 Principle Components to predict a movie will gross over 500K with at least 70% accuracy\n",
      "\n",
      "\n"
     ]
    }
   ],
   "source": [
    "# figuring out how many PCs need to keep to retain 70% of the original variance\n",
    "min_pc_250k = calc_min_pc(PCA_DF_250k, 'Cumulative_Variance', 0.70)\n",
    "min_pc_500k = calc_min_pc(PCA_DF_500k, 'Cumulative_Variance', 0.70)\n",
    "\n",
    "print(\"\\n\")\n",
    "print(\"According to PCA, the Logistic Regression Model only needs \" + str(min_pc_250k) + \" Principle Components to predict a movie will gross over 250K with at least 70% accuracy\")\n",
    "print(\"\\n\")\n",
    "print(\"According to PCA, the Logistic Regression Model only needs \" + str(min_pc_500k) + \" Principle Components to predict a movie will gross over 500K with at least 70% accuracy\")\n",
    "print(\"\\n\")"
   ]
  },
  {
   "cell_type": "markdown",
   "id": "secret-shape",
   "metadata": {},
   "source": [
    "## Creating new LR Models knowing now that we only need 3 principle components\n",
    "### We are creating these models to ensure that these models are in fact predicting with at least 70% explained variance"
   ]
  },
  {
   "cell_type": "code",
   "execution_count": 36,
   "id": "encouraging-nancy",
   "metadata": {},
   "outputs": [
    {
     "data": {
      "text/plain": [
       "PCA(n_components=3)"
      ]
     },
     "execution_count": 36,
     "metadata": {},
     "output_type": "execute_result"
    }
   ],
   "source": [
    "mod_PCA_Model_250k = PCA(n_components = min_pc_250k)\n",
    "mod_PCA_Model_250k.fit(PCA_LR_X_train_250k)"
   ]
  },
  {
   "cell_type": "code",
   "execution_count": 37,
   "id": "little-canadian",
   "metadata": {},
   "outputs": [
    {
     "data": {
      "text/plain": [
       "PCA(n_components=3)"
      ]
     },
     "execution_count": 37,
     "metadata": {},
     "output_type": "execute_result"
    }
   ],
   "source": [
    "mod_PCA_Model_500k = PCA(n_components = min_pc_500k)\n",
    "mod_PCA_Model_500k.fit(PCA_LR_X_train_500k)"
   ]
  },
  {
   "cell_type": "code",
   "execution_count": 38,
   "id": "legal-basics",
   "metadata": {},
   "outputs": [],
   "source": [
    "# 250k model\n",
    "mod_train_y_pred_250k = PCA_LR_Model_250k.predict(PCA_LR_X_train_250k)\n",
    "\n",
    "train_mod_mse_250k = mean_squared_error(PCA_LR_y_train_250k, mod_train_y_pred_250k)\n",
    "test_mod_mse_250k = mean_squared_error(PCA_LR_y_test_250k, PCA_LR_y_pred_250k)\n",
    "\n",
    "train_mod_r2_250k = r2_score(PCA_LR_y_train_250k, mod_train_y_pred_250k)\n",
    "test_mod_r2_250k = r2_score(PCA_LR_y_test_250k, PCA_LR_y_pred_250k)\n",
    "\n",
    "# 500k model\n",
    "mod_train_y_pred_500k = PCA_LR_Model_500k.predict(PCA_LR_X_train_500k)\n",
    "\n",
    "train_mod_mse_500k = mean_squared_error(PCA_LR_y_train_500k, mod_train_y_pred_500k)\n",
    "test_mod_mse_500k = mean_squared_error(PCA_LR_y_test_500k, PCA_LR_y_pred_500k)\n",
    "\n",
    "train_mod_r2_500k = r2_score(PCA_LR_y_train_500k, mod_train_y_pred_500k)\n",
    "test_mod_r2_500k = r2_score(PCA_LR_y_test_500k, PCA_LR_y_pred_500k)"
   ]
  },
  {
   "cell_type": "code",
   "execution_count": 39,
   "id": "productive-above",
   "metadata": {},
   "outputs": [
    {
     "name": "stdout",
     "output_type": "stream",
     "text": [
      "PCA Model (250k model) MSE (Train): 0.11192570869990225\n",
      "PCA Model (250k model) MSE (Test): 0.1187683284457478\n",
      "\n",
      "PCA Model (250k model) r2 (Train): -0.11052745238496553\n",
      "PCA Model (250k model) r2 (Test): -0.12280487804878026\n"
     ]
    }
   ],
   "source": [
    "print(\"PCA Model (250k model) MSE (Train): \" + str(train_mod_mse_250k))\n",
    "print(\"PCA Model (250k model) MSE (Test): \" + str(test_mod_mse_250k) + \"\\n\")\n",
    "\n",
    "print(\"PCA Model (250k model) r2 (Train): \" + str(train_mod_r2_250k))\n",
    "print(\"PCA Model (250k model) r2 (Test): \" + str(test_mod_r2_250k))"
   ]
  },
  {
   "cell_type": "code",
   "execution_count": 40,
   "id": "flying-threshold",
   "metadata": {},
   "outputs": [
    {
     "name": "stdout",
     "output_type": "stream",
     "text": [
      "PCA Model (500k model) MSE (Train): 0.15118931247963507\n",
      "PCA Model (500k model) MSE (Test): 0.14809384164222875\n",
      "\n",
      "PCA Model (500k model) r2 (Train): -0.12222124808277868\n",
      "PCA Model (500k model) r2 (Test): -0.08679257190640732\n"
     ]
    }
   ],
   "source": [
    "print(\"PCA Model (500k model) MSE (Train): \" + str(train_mod_mse_500k))\n",
    "print(\"PCA Model (500k model) MSE (Test): \" + str(test_mod_mse_500k) + \"\\n\")\n",
    "\n",
    "print(\"PCA Model (500k model) r2 (Train): \" + str(train_mod_r2_500k))\n",
    "print(\"PCA Model (500k model) r2 (Test): \" + str(test_mod_r2_500k))"
   ]
  },
  {
   "cell_type": "markdown",
   "id": "polar-acquisition",
   "metadata": {},
   "source": [
    "## Anaylsis Plan\n",
    "## TODO"
   ]
  },
  {
   "cell_type": "code",
   "execution_count": null,
   "id": "regular-jungle",
   "metadata": {},
   "outputs": [],
   "source": []
  }
 ],
 "metadata": {
  "kernelspec": {
   "display_name": "Python 3",
   "language": "python",
   "name": "python3"
  },
  "language_info": {
   "codemirror_mode": {
    "name": "ipython",
    "version": 3
   },
   "file_extension": ".py",
   "mimetype": "text/x-python",
   "name": "python",
   "nbconvert_exporter": "python",
   "pygments_lexer": "ipython3",
   "version": "3.9.4"
  }
 },
 "nbformat": 4,
 "nbformat_minor": 5
}
